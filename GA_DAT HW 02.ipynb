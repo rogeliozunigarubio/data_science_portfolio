{
 "cells": [
  {
   "cell_type": "code",
   "execution_count": 2,
   "metadata": {
    "collapsed": true
   },
   "outputs": [],
   "source": [
    "import pandas as pd\n",
    "import numpy as np\n",
    "from sklearn.datasets import make_classification\n",
    "from sklearn.datasets import make_regression\n",
    "from sklearn.linear_model import Lasso\n",
    "from sklearn.neighbors import KNeighborsClassifier\n",
    "from sk_modelcurves.learning_curve import draw_learning_curve\n",
    "\n",
    "import matplotlib.pyplot as plt\n",
    "%matplotlib inline"
   ]
  },
  {
   "cell_type": "markdown",
   "metadata": {},
   "source": [
    "### Describe the content of the dataset and its goals\n",
    "The dataset is made up of all numerical data of a subset of medical data relating to patient diagnosis for diabetes according to WHO criteria.\n",
    "\n",
    "The goal of the dataset is to try and determine possible feature importance to forecast diabetes for this specific population, females at least 21 years old of Pima Indian heritage.\n",
    "\n",
    "There are some missing values for some of the data variables."
   ]
  },
  {
   "cell_type": "code",
   "execution_count": 3,
   "metadata": {
    "collapsed": false
   },
   "outputs": [],
   "source": [
    "col_names = ['times_pregnant','glucose_concentration','blood_pressure','skin_fold_thickness','serum_insulin','bmi','pedigree','age','class']\n",
    "na={\"glucose_concentration\" : \"0\", \"blood_pressure\" : \"0\", \"skin_fold_thickness\" : \"0\", \"serum_insulin\" : \"0\", \"bmi\" : \"0\"}\n",
    "pima_data = pd.read_csv('pima-indians-diabetes/pima-indians-diabetes.data', names=col_names, na_values=na)"
   ]
  },
  {
   "cell_type": "markdown",
   "metadata": {},
   "source": [
    "### Describe the features and formulate a hypothesis on which might be relevant in predicting diabetes"
   ]
  },
  {
   "cell_type": "markdown",
   "metadata": {},
   "source": [
    "After doing basic data exploration, looking at the correlation values and the counts it seems to me that glucose_concentration and bmi are the most helpful features in predicting diabetes, at least according to this dataset, on the surface you would think that skin_fold_thickness would be closely related to bmi but we have a lot of null values there.Also, insulin would seem to be related to glucose_concentration but we have even more null values for that feature"
   ]
  },
  {
   "cell_type": "code",
   "execution_count": 4,
   "metadata": {
    "collapsed": false
   },
   "outputs": [
    {
     "name": "stdout",
     "output_type": "stream",
     "text": [
      "CRUDE 'AUTO' DATA DICTIONARY:\n",
      "- times_pregnant: from 0 to 17 \n",
      "- glucose_concentration: from 44.0 to 199.0 \n",
      "- blood_pressure: from 24.0 to 122.0 \n",
      "- skin_fold_thickness: from 7.0 to 99.0 \n",
      "- serum_insulin: from 14.0 to 846.0 \n",
      "- bmi: from 18.2 to 67.1 \n",
      "- pedigree: from 0.078 to 2.42 \n",
      "- age: from 21 to 81 \n",
      "- class: either 0 or 1 \n"
     ]
    }
   ],
   "source": [
    "print(\"CRUDE 'AUTO' DATA DICTIONARY:\")\n",
    "for nextColumn in col_names:\n",
    "    fromTo = 'either' if nextColumn == 'class' else 'from'\n",
    "    orTo = 'or' if nextColumn == 'class' else 'to'\n",
    "    print(\"- {0}: {1} {2} {3} {4} \".format(nextColumn,fromTo,pima_data[nextColumn].min(),orTo,pima_data[nextColumn].max()))"
   ]
  },
  {
   "cell_type": "code",
   "execution_count": 201,
   "metadata": {
    "collapsed": false
   },
   "outputs": [
    {
     "data": {
      "text/html": [
       "<div>\n",
       "<table border=\"1\" class=\"dataframe\">\n",
       "  <thead>\n",
       "    <tr style=\"text-align: right;\">\n",
       "      <th></th>\n",
       "      <th>times_pregnant</th>\n",
       "      <th>glucose_concentration</th>\n",
       "      <th>blood_pressure</th>\n",
       "      <th>skin_fold_thickness</th>\n",
       "      <th>serum_insulin</th>\n",
       "      <th>bmi</th>\n",
       "      <th>pedigree</th>\n",
       "      <th>age</th>\n",
       "      <th>class</th>\n",
       "    </tr>\n",
       "  </thead>\n",
       "  <tbody>\n",
       "    <tr>\n",
       "      <th>count</th>\n",
       "      <td>768.000000</td>\n",
       "      <td>763.000000</td>\n",
       "      <td>733.000000</td>\n",
       "      <td>541.000000</td>\n",
       "      <td>394.000000</td>\n",
       "      <td>757.000000</td>\n",
       "      <td>768.000000</td>\n",
       "      <td>768.000000</td>\n",
       "      <td>768.000000</td>\n",
       "    </tr>\n",
       "    <tr>\n",
       "      <th>mean</th>\n",
       "      <td>3.845052</td>\n",
       "      <td>121.686763</td>\n",
       "      <td>72.405184</td>\n",
       "      <td>29.153420</td>\n",
       "      <td>155.548223</td>\n",
       "      <td>32.457464</td>\n",
       "      <td>0.471876</td>\n",
       "      <td>33.240885</td>\n",
       "      <td>0.348958</td>\n",
       "    </tr>\n",
       "    <tr>\n",
       "      <th>std</th>\n",
       "      <td>3.369578</td>\n",
       "      <td>30.535641</td>\n",
       "      <td>12.382158</td>\n",
       "      <td>10.476982</td>\n",
       "      <td>118.775855</td>\n",
       "      <td>6.924988</td>\n",
       "      <td>0.331329</td>\n",
       "      <td>11.760232</td>\n",
       "      <td>0.476951</td>\n",
       "    </tr>\n",
       "    <tr>\n",
       "      <th>min</th>\n",
       "      <td>0.000000</td>\n",
       "      <td>44.000000</td>\n",
       "      <td>24.000000</td>\n",
       "      <td>7.000000</td>\n",
       "      <td>14.000000</td>\n",
       "      <td>18.200000</td>\n",
       "      <td>0.078000</td>\n",
       "      <td>21.000000</td>\n",
       "      <td>0.000000</td>\n",
       "    </tr>\n",
       "    <tr>\n",
       "      <th>25%</th>\n",
       "      <td>1.000000</td>\n",
       "      <td>99.000000</td>\n",
       "      <td>64.000000</td>\n",
       "      <td>22.000000</td>\n",
       "      <td>76.250000</td>\n",
       "      <td>27.500000</td>\n",
       "      <td>0.243750</td>\n",
       "      <td>24.000000</td>\n",
       "      <td>0.000000</td>\n",
       "    </tr>\n",
       "    <tr>\n",
       "      <th>50%</th>\n",
       "      <td>3.000000</td>\n",
       "      <td>117.000000</td>\n",
       "      <td>72.000000</td>\n",
       "      <td>29.000000</td>\n",
       "      <td>125.000000</td>\n",
       "      <td>32.300000</td>\n",
       "      <td>0.372500</td>\n",
       "      <td>29.000000</td>\n",
       "      <td>0.000000</td>\n",
       "    </tr>\n",
       "    <tr>\n",
       "      <th>75%</th>\n",
       "      <td>6.000000</td>\n",
       "      <td>141.000000</td>\n",
       "      <td>80.000000</td>\n",
       "      <td>36.000000</td>\n",
       "      <td>190.000000</td>\n",
       "      <td>36.600000</td>\n",
       "      <td>0.626250</td>\n",
       "      <td>41.000000</td>\n",
       "      <td>1.000000</td>\n",
       "    </tr>\n",
       "    <tr>\n",
       "      <th>max</th>\n",
       "      <td>17.000000</td>\n",
       "      <td>199.000000</td>\n",
       "      <td>122.000000</td>\n",
       "      <td>99.000000</td>\n",
       "      <td>846.000000</td>\n",
       "      <td>67.100000</td>\n",
       "      <td>2.420000</td>\n",
       "      <td>81.000000</td>\n",
       "      <td>1.000000</td>\n",
       "    </tr>\n",
       "  </tbody>\n",
       "</table>\n",
       "</div>"
      ],
      "text/plain": [
       "       times_pregnant  glucose_concentration  blood_pressure  \\\n",
       "count      768.000000             763.000000      733.000000   \n",
       "mean         3.845052             121.686763       72.405184   \n",
       "std          3.369578              30.535641       12.382158   \n",
       "min          0.000000              44.000000       24.000000   \n",
       "25%          1.000000              99.000000       64.000000   \n",
       "50%          3.000000             117.000000       72.000000   \n",
       "75%          6.000000             141.000000       80.000000   \n",
       "max         17.000000             199.000000      122.000000   \n",
       "\n",
       "       skin_fold_thickness  serum_insulin         bmi    pedigree         age  \\\n",
       "count           541.000000     394.000000  757.000000  768.000000  768.000000   \n",
       "mean             29.153420     155.548223   32.457464    0.471876   33.240885   \n",
       "std              10.476982     118.775855    6.924988    0.331329   11.760232   \n",
       "min               7.000000      14.000000   18.200000    0.078000   21.000000   \n",
       "25%              22.000000      76.250000   27.500000    0.243750   24.000000   \n",
       "50%              29.000000     125.000000   32.300000    0.372500   29.000000   \n",
       "75%              36.000000     190.000000   36.600000    0.626250   41.000000   \n",
       "max              99.000000     846.000000   67.100000    2.420000   81.000000   \n",
       "\n",
       "            class  \n",
       "count  768.000000  \n",
       "mean     0.348958  \n",
       "std      0.476951  \n",
       "min      0.000000  \n",
       "25%      0.000000  \n",
       "50%      0.000000  \n",
       "75%      1.000000  \n",
       "max      1.000000  "
      ]
     },
     "execution_count": 201,
     "metadata": {},
     "output_type": "execute_result"
    }
   ],
   "source": [
    "pima_data.describe()"
   ]
  },
  {
   "cell_type": "code",
   "execution_count": 202,
   "metadata": {
    "collapsed": false
   },
   "outputs": [
    {
     "name": "stdout",
     "output_type": "stream",
     "text": [
      "<class 'pandas.core.frame.DataFrame'>\n",
      "Int64Index: 768 entries, 0 to 767\n",
      "Data columns (total 9 columns):\n",
      "times_pregnant           768 non-null int64\n",
      "glucose_concentration    763 non-null float64\n",
      "blood_pressure           733 non-null float64\n",
      "skin_fold_thickness      541 non-null float64\n",
      "serum_insulin            394 non-null float64\n",
      "bmi                      757 non-null float64\n",
      "pedigree                 768 non-null float64\n",
      "age                      768 non-null int64\n",
      "class                    768 non-null int64\n",
      "dtypes: float64(6), int64(3)\n",
      "memory usage: 60.0 KB\n"
     ]
    }
   ],
   "source": [
    "pima_data.info()"
   ]
  },
  {
   "cell_type": "code",
   "execution_count": 203,
   "metadata": {
    "collapsed": false
   },
   "outputs": [
    {
     "data": {
      "text/html": [
       "<div>\n",
       "<table border=\"1\" class=\"dataframe\">\n",
       "  <thead>\n",
       "    <tr style=\"text-align: right;\">\n",
       "      <th></th>\n",
       "      <th>times_pregnant</th>\n",
       "      <th>glucose_concentration</th>\n",
       "      <th>blood_pressure</th>\n",
       "      <th>skin_fold_thickness</th>\n",
       "      <th>serum_insulin</th>\n",
       "      <th>bmi</th>\n",
       "      <th>pedigree</th>\n",
       "      <th>age</th>\n",
       "      <th>class</th>\n",
       "    </tr>\n",
       "  </thead>\n",
       "  <tbody>\n",
       "    <tr>\n",
       "      <th>class</th>\n",
       "      <td>0.221898</td>\n",
       "      <td>0.494650</td>\n",
       "      <td>0.170589</td>\n",
       "      <td>0.259491</td>\n",
       "      <td>0.303454</td>\n",
       "      <td>0.313680</td>\n",
       "      <td>0.173844</td>\n",
       "      <td>0.238356</td>\n",
       "      <td>1.000000</td>\n",
       "    </tr>\n",
       "    <tr>\n",
       "      <th>glucose_concentration</th>\n",
       "      <td>0.128135</td>\n",
       "      <td>1.000000</td>\n",
       "      <td>0.223192</td>\n",
       "      <td>0.228043</td>\n",
       "      <td>0.581186</td>\n",
       "      <td>0.232771</td>\n",
       "      <td>0.137246</td>\n",
       "      <td>0.267136</td>\n",
       "      <td>0.494650</td>\n",
       "    </tr>\n",
       "    <tr>\n",
       "      <th>bmi</th>\n",
       "      <td>0.021719</td>\n",
       "      <td>0.232771</td>\n",
       "      <td>0.289230</td>\n",
       "      <td>0.648214</td>\n",
       "      <td>0.228050</td>\n",
       "      <td>1.000000</td>\n",
       "      <td>0.155382</td>\n",
       "      <td>0.025841</td>\n",
       "      <td>0.313680</td>\n",
       "    </tr>\n",
       "    <tr>\n",
       "      <th>serum_insulin</th>\n",
       "      <td>0.082171</td>\n",
       "      <td>0.581186</td>\n",
       "      <td>0.098272</td>\n",
       "      <td>0.184888</td>\n",
       "      <td>1.000000</td>\n",
       "      <td>0.228050</td>\n",
       "      <td>0.130395</td>\n",
       "      <td>0.220261</td>\n",
       "      <td>0.303454</td>\n",
       "    </tr>\n",
       "    <tr>\n",
       "      <th>skin_fold_thickness</th>\n",
       "      <td>0.100239</td>\n",
       "      <td>0.228043</td>\n",
       "      <td>0.226839</td>\n",
       "      <td>1.000000</td>\n",
       "      <td>0.184888</td>\n",
       "      <td>0.648214</td>\n",
       "      <td>0.115016</td>\n",
       "      <td>0.166816</td>\n",
       "      <td>0.259491</td>\n",
       "    </tr>\n",
       "    <tr>\n",
       "      <th>age</th>\n",
       "      <td>0.544341</td>\n",
       "      <td>0.267136</td>\n",
       "      <td>0.330107</td>\n",
       "      <td>0.166816</td>\n",
       "      <td>0.220261</td>\n",
       "      <td>0.025841</td>\n",
       "      <td>0.033561</td>\n",
       "      <td>1.000000</td>\n",
       "      <td>0.238356</td>\n",
       "    </tr>\n",
       "    <tr>\n",
       "      <th>times_pregnant</th>\n",
       "      <td>1.000000</td>\n",
       "      <td>0.128135</td>\n",
       "      <td>0.214178</td>\n",
       "      <td>0.100239</td>\n",
       "      <td>0.082171</td>\n",
       "      <td>0.021719</td>\n",
       "      <td>-0.033523</td>\n",
       "      <td>0.544341</td>\n",
       "      <td>0.221898</td>\n",
       "    </tr>\n",
       "    <tr>\n",
       "      <th>pedigree</th>\n",
       "      <td>-0.033523</td>\n",
       "      <td>0.137246</td>\n",
       "      <td>-0.002805</td>\n",
       "      <td>0.115016</td>\n",
       "      <td>0.130395</td>\n",
       "      <td>0.155382</td>\n",
       "      <td>1.000000</td>\n",
       "      <td>0.033561</td>\n",
       "      <td>0.173844</td>\n",
       "    </tr>\n",
       "    <tr>\n",
       "      <th>blood_pressure</th>\n",
       "      <td>0.214178</td>\n",
       "      <td>0.223192</td>\n",
       "      <td>1.000000</td>\n",
       "      <td>0.226839</td>\n",
       "      <td>0.098272</td>\n",
       "      <td>0.289230</td>\n",
       "      <td>-0.002805</td>\n",
       "      <td>0.330107</td>\n",
       "      <td>0.170589</td>\n",
       "    </tr>\n",
       "  </tbody>\n",
       "</table>\n",
       "</div>"
      ],
      "text/plain": [
       "                       times_pregnant  glucose_concentration  blood_pressure  \\\n",
       "class                        0.221898               0.494650        0.170589   \n",
       "glucose_concentration        0.128135               1.000000        0.223192   \n",
       "bmi                          0.021719               0.232771        0.289230   \n",
       "serum_insulin                0.082171               0.581186        0.098272   \n",
       "skin_fold_thickness          0.100239               0.228043        0.226839   \n",
       "age                          0.544341               0.267136        0.330107   \n",
       "times_pregnant               1.000000               0.128135        0.214178   \n",
       "pedigree                    -0.033523               0.137246       -0.002805   \n",
       "blood_pressure               0.214178               0.223192        1.000000   \n",
       "\n",
       "                       skin_fold_thickness  serum_insulin       bmi  pedigree  \\\n",
       "class                             0.259491       0.303454  0.313680  0.173844   \n",
       "glucose_concentration             0.228043       0.581186  0.232771  0.137246   \n",
       "bmi                               0.648214       0.228050  1.000000  0.155382   \n",
       "serum_insulin                     0.184888       1.000000  0.228050  0.130395   \n",
       "skin_fold_thickness               1.000000       0.184888  0.648214  0.115016   \n",
       "age                               0.166816       0.220261  0.025841  0.033561   \n",
       "times_pregnant                    0.100239       0.082171  0.021719 -0.033523   \n",
       "pedigree                          0.115016       0.130395  0.155382  1.000000   \n",
       "blood_pressure                    0.226839       0.098272  0.289230 -0.002805   \n",
       "\n",
       "                            age     class  \n",
       "class                  0.238356  1.000000  \n",
       "glucose_concentration  0.267136  0.494650  \n",
       "bmi                    0.025841  0.313680  \n",
       "serum_insulin          0.220261  0.303454  \n",
       "skin_fold_thickness    0.166816  0.259491  \n",
       "age                    1.000000  0.238356  \n",
       "times_pregnant         0.544341  0.221898  \n",
       "pedigree               0.033561  0.173844  \n",
       "blood_pressure         0.330107  0.170589  "
      ]
     },
     "execution_count": 203,
     "metadata": {},
     "output_type": "execute_result"
    }
   ],
   "source": [
    "pima_data.corr().sort('class', ascending=False)"
   ]
  },
  {
   "cell_type": "markdown",
   "metadata": {},
   "source": [
    "### Describe the missing/NULL values. Decide if you should impute or drop them and justify your choice."
   ]
  },
  {
   "cell_type": "markdown",
   "metadata": {},
   "source": [
    "As we can see from info() below we have very FEW missing values in glucose_concentration, blood_pressure and bmi, but we have a significant number of values missing for skin_fold_thickness and serum_insulin\n",
    "\n",
    "    DROP serum_insulin\n",
    "Most medical literature seems to describe a direct relationship between insulin levels and glucose concentration in the blood in both type I and type II diabetes, therefore I am going to drop serum_insulin since it most likely will not have significant impact as a predictor\n",
    "\n",
    "https://vsearch.nlm.nih.gov/vivisimo/cgi-bin/query-meta?v%3Aproject=medlineplus&v%3Asources=medlineplus-bundle&query=Type+2+diabetes\n",
    "\n",
    "https://www.nlm.nih.gov/medlineplus/ency/article/000305.htm\n",
    "\n",
    "    IMPUTE skin fold thickness\n",
    "\n",
    "After taking a quick look at some literature on BMI/SFT measurements as predictors of diabetes in adults (there is a lot more study being conducted for children and adolescents!) I have a weak idea that the verdict is out on which is a more effective predictor, they are both used, sometimes together, so I am choosing to impute skin fold thickness and fill in the missing data with the mean\n",
    "\n",
    "    IMPUTE glucose_concentration, blood_pressure and bmi\n",
    "  \n",
    "These have very few missing values so I will fill them with the mean for each"
   ]
  },
  {
   "cell_type": "code",
   "execution_count": 204,
   "metadata": {
    "collapsed": false
   },
   "outputs": [
    {
     "name": "stdout",
     "output_type": "stream",
     "text": [
      "<class 'pandas.core.frame.DataFrame'>\n",
      "Int64Index: 768 entries, 0 to 767\n",
      "Data columns (total 9 columns):\n",
      "times_pregnant           768 non-null int64\n",
      "glucose_concentration    763 non-null float64\n",
      "blood_pressure           733 non-null float64\n",
      "skin_fold_thickness      541 non-null float64\n",
      "serum_insulin            394 non-null float64\n",
      "bmi                      757 non-null float64\n",
      "pedigree                 768 non-null float64\n",
      "age                      768 non-null int64\n",
      "class                    768 non-null int64\n",
      "dtypes: float64(6), int64(3)\n",
      "memory usage: 60.0 KB\n"
     ]
    }
   ],
   "source": [
    "pima_data.info()"
   ]
  },
  {
   "cell_type": "code",
   "execution_count": 5,
   "metadata": {
    "collapsed": false
   },
   "outputs": [],
   "source": [
    "pima_data.drop('serum_insulin',1, inplace=True)\n",
    "pima_data\n",
    "pima_data.replace({'skin_fold_thickness':{np.nan:pima_data['skin_fold_thickness'].mean()}},inplace=True)\n",
    "pima_data.replace({'blood_pressure':{np.nan:pima_data['blood_pressure'].mean()}},inplace=True)\n",
    "pima_data.replace({'bmi':{np.nan:pima_data['bmi'].mean()}},inplace=True)\n",
    "pima_data.replace({'glucose_concentration':{np.nan:pima_data['glucose_concentration'].mean()}},inplace=True)"
   ]
  },
  {
   "cell_type": "code",
   "execution_count": 206,
   "metadata": {
    "collapsed": false
   },
   "outputs": [
    {
     "name": "stdout",
     "output_type": "stream",
     "text": [
      "<class 'pandas.core.frame.DataFrame'>\n",
      "Int64Index: 768 entries, 0 to 767\n",
      "Data columns (total 8 columns):\n",
      "times_pregnant           768 non-null int64\n",
      "glucose_concentration    768 non-null float64\n",
      "blood_pressure           768 non-null float64\n",
      "skin_fold_thickness      768 non-null float64\n",
      "bmi                      768 non-null float64\n",
      "pedigree                 768 non-null float64\n",
      "age                      768 non-null int64\n",
      "class                    768 non-null int64\n",
      "dtypes: float64(5), int64(3)\n",
      "memory usage: 54.0 KB\n"
     ]
    }
   ],
   "source": [
    "pima_data.info()"
   ]
  },
  {
   "cell_type": "code",
   "execution_count": 457,
   "metadata": {
    "collapsed": false
   },
   "outputs": [
    {
     "data": {
      "image/png": "[encoded data removed]",
      "text/plain": [
       "<matplotlib.figure.Figure at 0x111556350>"
      ]
     },
     "metadata": {},
     "output_type": "display_data"
    },
    {
     "data": {
      "image/png": "[encoded data removed]",
      "text/plain": [
       "<matplotlib.figure.Figure at 0x10de18ed0>"
      ]
     },
     "metadata": {},
     "output_type": "display_data"
    },
    {
     "data": {
      "image/png": "[encoded data removed]",
      "text/plain": [
       "<matplotlib.figure.Figure at 0x110cff450>"
      ]
     },
     "metadata": {},
     "output_type": "display_data"
    },
    {
     "data": {
      "image/png": "[encoded data removed]",
      "text/plain": [
       "<matplotlib.figure.Figure at 0x1111a5790>"
      ]
     },
     "metadata": {},
     "output_type": "display_data"
    },
    {
     "data": {
      "image/png": "[encoded data removed]",
      "text/plain": [
       "<matplotlib.figure.Figure at 0x11153abd0>"
      ]
     },
     "metadata": {},
     "output_type": "display_data"
    },
    {
     "data": {
      "image/png": "[encoded data removed]",
      "text/plain": [
       "<matplotlib.figure.Figure at 0x10b649d90>"
      ]
     },
     "metadata": {},
     "output_type": "display_data"
    },
    {
     "data": {
      "image/png": "[encoded data removed]",
      "text/plain": [
       "<matplotlib.figure.Figure at 0x11128b390>"
      ]
     },
     "metadata": {},
     "output_type": "display_data"
    }
   ],
   "source": [
    "import seaborn as sns\n",
    "sns.set_style(\"whitegrid\")\n",
    "sns.set_context(rc={'ytick.labelsize': 0.0,'axes.labelsize': 15.0,'axes.titlesize': 10.0,'xtick.labelsize': 11.0})\n",
    "pima_data_vis = pima_data.replace({'class':{0:'Negative for Diabetes',1:'Postive for Diabetes'}})\n",
    "for nextFeature in pima_data.columns:\n",
    "    if nextFeature != 'class':\n",
    "        sns.factorplot(x=nextFeature, y=\"class\", hue=\"class\",legend=True ,data=pima_data_vis, kind=\"box\",\n",
    "                       size=3, aspect=5, palette=\"coolwarm\", orient=\"h\");"
   ]
  },
  {
   "cell_type": "markdown",
   "metadata": {},
   "source": [
    "### Come up with a benchmark for the minimum performance that an algorithm should have on this dataset"
   ]
  },
  {
   "cell_type": "code",
   "execution_count": 113,
   "metadata": {
    "collapsed": false
   },
   "outputs": [],
   "source": [
    "scoreboard = {}"
   ]
  },
  {
   "cell_type": "code",
   "execution_count": 107,
   "metadata": {
    "collapsed": false
   },
   "outputs": [
    {
     "name": "stdout",
     "output_type": "stream",
     "text": [
      "10000 loops, best of 3: 76.8 µs per loop\n"
     ]
    }
   ],
   "source": [
    "y = pima_data['class']\n",
    "X = pima_data.drop('class', axis=1)\n",
    "from sklearn.cross_validation import train_test_split\n",
    "X_train, X_test, y_train, y_test = train_test_split(X, y, test_size=0.2, random_state=7)\n",
    "\n",
    "from sklearn.dummy import DummyClassifier\n",
    "dc = DummyClassifier(strategy='most_frequent')\n",
    "dummy_timeit = %timeit -o dc.fit(X_train, y_train)\n",
    "dummy_score = dc.score(X_train,y_train)"
   ]
  },
  {
   "cell_type": "code",
   "execution_count": 114,
   "metadata": {
    "collapsed": false
   },
   "outputs": [],
   "source": [
    "scoreboard['Dummy'] = {'timeit':dummy_timeit,'score':dummy_score}"
   ]
  },
  {
   "cell_type": "code",
   "execution_count": 30,
   "metadata": {
    "collapsed": false
   },
   "outputs": [
    {
     "data": {
      "text/plain": [
       "0.65635179153094458"
      ]
     },
     "execution_count": 30,
     "metadata": {},
     "output_type": "execute_result"
    }
   ],
   "source": [
    "dummy_score"
   ]
  },
  {
   "cell_type": "markdown",
   "metadata": {},
   "source": [
    "    Minimum performance to beat is ~ .66 which is as good as just guessing that everyone has diabetes "
   ]
  },
  {
   "cell_type": "code",
   "execution_count": 24,
   "metadata": {
    "collapsed": true
   },
   "outputs": [],
   "source": [
    "from sklearn.cross_validation import ShuffleSplit\n",
    "cv = ShuffleSplit(X_train.shape[0], n_iter=10, test_size=0.2, random_state=0)"
   ]
  },
  {
   "cell_type": "markdown",
   "metadata": {},
   "source": [
    "### What's the best performance you can get with kNN? Is kNN a good choice for this dataset?"
   ]
  },
  {
   "cell_type": "code",
   "execution_count": 142,
   "metadata": {
    "collapsed": false
   },
   "outputs": [
    {
     "name": "stdout",
     "output_type": "stream",
     "text": [
      "1000 loops, best of 3: 538 µs per loop\n"
     ]
    }
   ],
   "source": [
    "from sklearn.neighbors import KNeighborsClassifier\n",
    "knn_model = KNeighborsClassifier(n_neighbors=17, weights='distance', p=1)\n",
    "knn_timeit = %timeit -o knn_model.fit(X_train, y_train)"
   ]
  },
  {
   "cell_type": "code",
   "execution_count": 63,
   "metadata": {
    "collapsed": false
   },
   "outputs": [
    {
     "data": {
      "text/plain": [
       "{'algorithm': 'auto',\n",
       " 'leaf_size': 30,\n",
       " 'metric': 'minkowski',\n",
       " 'metric_params': None,\n",
       " 'n_neighbors': 17,\n",
       " 'p': 1,\n",
       " 'weights': 'distance'}"
      ]
     },
     "execution_count": 63,
     "metadata": {},
     "output_type": "execute_result"
    }
   ],
   "source": [
    "knn_model.get_params()"
   ]
  },
  {
   "cell_type": "code",
   "execution_count": 130,
   "metadata": {
    "collapsed": false
   },
   "outputs": [
    {
     "data": {
      "text/plain": [
       "{'n_neighbors': 17, 'p': 1, 'weights': 'distance'}"
      ]
     },
     "execution_count": 130,
     "metadata": {},
     "output_type": "execute_result"
    }
   ],
   "source": [
    "from sklearn.grid_search import GridSearchCV\n",
    "parameters = {'n_neighbors': range(1,30), 'weights': ['uniform', 'distance'],'p': range(1,4)}\n",
    "clf_knn = GridSearchCV(knn_model, parameters, cv=cv)\n",
    "clf_knn.fit(X_train, y_train)\n",
    "clf_knn.best_params_"
   ]
  },
  {
   "cell_type": "code",
   "execution_count": 143,
   "metadata": {
    "collapsed": false
   },
   "outputs": [],
   "source": [
    "knn_score = knn_model.score(X_test, y_test)\n",
    "scoreboard['Knn'] = {'timeit':knn_timeit,'score':knn_score}"
   ]
  },
  {
   "cell_type": "code",
   "execution_count": 144,
   "metadata": {
    "collapsed": false
   },
   "outputs": [
    {
     "data": {
      "text/plain": [
       "0.75974025974025972"
      ]
     },
     "execution_count": 144,
     "metadata": {},
     "output_type": "execute_result"
    }
   ],
   "source": [
    "knn_score"
   ]
  },
  {
   "cell_type": "code",
   "execution_count": 355,
   "metadata": {
    "collapsed": false
   },
   "outputs": [
    {
     "name": "stdout",
     "output_type": "stream",
     "text": [
      "1000 loops, best of 3: 550 µs per loop\n"
     ]
    }
   ],
   "source": [
    "knn2_model = KNeighborsClassifier(n_neighbors=13, weights='distance', p=1)\n",
    "knn2_timeit = %timeit -o knn2_model.fit(X_train, y_train)\n",
    "knn2_score = knn2_model.score(X_test, y_test)\n",
    "scoreboard['Knn2'] = {'timeit':knn2_timeit,'score':knn2_score}"
   ]
  },
  {
   "cell_type": "code",
   "execution_count": 356,
   "metadata": {
    "collapsed": false
   },
   "outputs": [
    {
     "data": {
      "text/plain": [
       "0.79220779220779225"
      ]
     },
     "execution_count": 356,
     "metadata": {},
     "output_type": "execute_result"
    }
   ],
   "source": [
    "knn2_score"
   ]
  },
  {
   "cell_type": "markdown",
   "metadata": {},
   "source": [
    "    The best Knn can do is ~ .76 which is better than the benchmark value. I think Knn is a good choice because similar cases of diabetes will have similar observed feature values and that's when Knn is good, I am only concerned about outliers in the dataset\n",
    "    \n",
    "    Strangely enough, although GridSearchCV decided n_neighbors=17 was optimimal, I tried it with 13 (because easy_learning_curves wanted 13 max!) and that gave me a better score ~ .79  (WTF?!)"
   ]
  },
  {
   "cell_type": "code",
   "execution_count": null,
   "metadata": {
    "collapsed": true
   },
   "outputs": [],
   "source": []
  },
  {
   "cell_type": "markdown",
   "metadata": {
    "collapsed": true
   },
   "source": [
    "### What's the best performance you can get with Naive Bayes? Is NB a good choice for this dataset?"
   ]
  },
  {
   "cell_type": "code",
   "execution_count": 145,
   "metadata": {
    "collapsed": false
   },
   "outputs": [
    {
     "name": "stdout",
     "output_type": "stream",
     "text": [
      "1000 loops, best of 3: 656 µs per loop\n"
     ]
    }
   ],
   "source": [
    "from sklearn.naive_bayes import MultinomialNB\n",
    "nb_model = MultinomialNB(alpha=12)\n",
    "nb_timeit = %timeit -o nb_model.fit(X_train, y_train)"
   ]
  },
  {
   "cell_type": "code",
   "execution_count": 64,
   "metadata": {
    "collapsed": false
   },
   "outputs": [
    {
     "data": {
      "text/plain": [
       "{'alpha': 12, 'class_prior': None, 'fit_prior': True}"
      ]
     },
     "execution_count": 64,
     "metadata": {},
     "output_type": "execute_result"
    }
   ],
   "source": [
    "nb_model.get_params()"
   ]
  },
  {
   "cell_type": "code",
   "execution_count": 32,
   "metadata": {
    "collapsed": false
   },
   "outputs": [
    {
     "data": {
      "text/plain": [
       "{'alpha': 12}"
      ]
     },
     "execution_count": 32,
     "metadata": {},
     "output_type": "execute_result"
    }
   ],
   "source": [
    "parameters = {'alpha': range(1,30)}\n",
    "clf_nb = GridSearchCV(nb_model,parameters,cv=cv)\n",
    "clf_nb.fit(X_train, y_train)\n",
    "clf_nb.best_params_"
   ]
  },
  {
   "cell_type": "code",
   "execution_count": 146,
   "metadata": {
    "collapsed": false
   },
   "outputs": [],
   "source": [
    "nb_score = nb_model.score(X_test,y_test)\n",
    "scoreboard['NB'] = {'timeit':nb_timeit,'score':nb_score}"
   ]
  },
  {
   "cell_type": "code",
   "execution_count": 147,
   "metadata": {
    "collapsed": false
   },
   "outputs": [
    {
     "data": {
      "text/plain": [
       "0.74025974025974028"
      ]
     },
     "execution_count": 147,
     "metadata": {},
     "output_type": "execute_result"
    }
   ],
   "source": [
    "nb_score"
   ]
  },
  {
   "cell_type": "markdown",
   "metadata": {},
   "source": [
    "    The best NB can do is ~ .74 which is better than benchmark but not as good as Knn. NM is probably not going to be a good fit for this dataset because the parameters are correlated which is something NB ignores"
   ]
  },
  {
   "cell_type": "markdown",
   "metadata": {},
   "source": [
    "### What's the best performance you can get with Logistic Regression? Is LR a good choice for this dataset?"
   ]
  },
  {
   "cell_type": "code",
   "execution_count": 148,
   "metadata": {
    "collapsed": false
   },
   "outputs": [
    {
     "name": "stdout",
     "output_type": "stream",
     "text": [
      "100 loops, best of 3: 3.43 ms per loop\n"
     ]
    }
   ],
   "source": [
    "from sklearn.linear_model import LogisticRegression\n",
    "lr_model = LogisticRegression(C=13,penalty='l2',max_iter=27)\n",
    "lr_timeit = %timeit -o lr_model.fit(X_train, y_train)"
   ]
  },
  {
   "cell_type": "code",
   "execution_count": 57,
   "metadata": {
    "collapsed": false
   },
   "outputs": [
    {
     "data": {
      "text/plain": [
       "{'C': 4,\n",
       " 'class_weight': None,\n",
       " 'dual': False,\n",
       " 'fit_intercept': True,\n",
       " 'intercept_scaling': 1,\n",
       " 'max_iter': 100,\n",
       " 'multi_class': 'ovr',\n",
       " 'penalty': 'l1',\n",
       " 'random_state': None,\n",
       " 'solver': 'liblinear',\n",
       " 'tol': 0.0001,\n",
       " 'verbose': 0}"
      ]
     },
     "execution_count": 57,
     "metadata": {},
     "output_type": "execute_result"
    }
   ],
   "source": [
    "lr_model.get_params()"
   ]
  },
  {
   "cell_type": "code",
   "execution_count": 60,
   "metadata": {
    "collapsed": false
   },
   "outputs": [
    {
     "data": {
      "text/plain": [
       "{'C': 13, 'max_iter': 27, 'penalty': 'l2'}"
      ]
     },
     "execution_count": 60,
     "metadata": {},
     "output_type": "execute_result"
    }
   ],
   "source": [
    "parameters = {'C': range(1,30),'max_iter': range(1,30),'penalty':['l1','l2']}\n",
    "clf_lr = GridSearchCV(lr_model,parameters,cv=cv)\n",
    "clf_lr.fit(X_train, y_train)\n",
    "clf_lr.best_params_"
   ]
  },
  {
   "cell_type": "code",
   "execution_count": 149,
   "metadata": {
    "collapsed": false
   },
   "outputs": [],
   "source": [
    "lr_score = lr_model.score(X_test,y_test)\n",
    "scoreboard['LR'] = {'timeit':lr_timeit,'score':lr_score}"
   ]
  },
  {
   "cell_type": "code",
   "execution_count": 150,
   "metadata": {
    "collapsed": false
   },
   "outputs": [
    {
     "data": {
      "text/plain": [
       "0.77922077922077926"
      ]
     },
     "execution_count": 150,
     "metadata": {},
     "output_type": "execute_result"
    }
   ],
   "source": [
    "lr_score"
   ]
  },
  {
   "cell_type": "markdown",
   "metadata": {},
   "source": [
    "    The best LR can do is ~ .78 which is much better than benchmark and better than Knn."
   ]
  },
  {
   "cell_type": "markdown",
   "metadata": {},
   "source": [
    "### What's the best performance you can get with Random Forest? Is RF a good choice for this dataset?"
   ]
  },
  {
   "cell_type": "code",
   "execution_count": 151,
   "metadata": {
    "collapsed": false
   },
   "outputs": [
    {
     "name": "stdout",
     "output_type": "stream",
     "text": [
      "10 loops, best of 3: 128 ms per loop\n"
     ]
    }
   ],
   "source": [
    "from sklearn.ensemble import RandomForestClassifier\n",
    "rf_model = RandomForestClassifier(n_estimators = 146)\n",
    "rf_timeit = %timeit -o rf_model.fit(X_train, y_train)"
   ]
  },
  {
   "cell_type": "code",
   "execution_count": 61,
   "metadata": {
    "collapsed": false
   },
   "outputs": [
    {
     "data": {
      "text/plain": [
       "{'bootstrap': True,\n",
       " 'class_weight': None,\n",
       " 'criterion': 'gini',\n",
       " 'max_depth': None,\n",
       " 'max_features': 'auto',\n",
       " 'max_leaf_nodes': None,\n",
       " 'min_samples_leaf': 1,\n",
       " 'min_samples_split': 2,\n",
       " 'min_weight_fraction_leaf': 0.0,\n",
       " 'n_estimators': 146,\n",
       " 'n_jobs': 1,\n",
       " 'oob_score': False,\n",
       " 'random_state': None,\n",
       " 'verbose': 0,\n",
       " 'warm_start': False}"
      ]
     },
     "execution_count": 61,
     "metadata": {},
     "output_type": "execute_result"
    }
   ],
   "source": [
    "rf_model.get_params()"
   ]
  },
  {
   "cell_type": "code",
   "execution_count": 43,
   "metadata": {
    "collapsed": false
   },
   "outputs": [
    {
     "data": {
      "text/plain": [
       "{'n_estimators': 146}"
      ]
     },
     "execution_count": 43,
     "metadata": {},
     "output_type": "execute_result"
    }
   ],
   "source": [
    "parameters = {'n_estimators': range(1,200)}\n",
    "clf_rf = GridSearchCV(rf_model,parameters,cv=cv)\n",
    "clf_rf.fit(X_train, y_train)\n",
    "clf_rf.best_params_"
   ]
  },
  {
   "cell_type": "code",
   "execution_count": 152,
   "metadata": {
    "collapsed": true
   },
   "outputs": [],
   "source": [
    "rf_score = rf_model.score(X_test,y_test)\n",
    "scoreboard['RF'] = {'timeit':rf_timeit,'score':rf_score}"
   ]
  },
  {
   "cell_type": "code",
   "execution_count": 153,
   "metadata": {
    "collapsed": false
   },
   "outputs": [
    {
     "data": {
      "text/plain": [
       "0.79220779220779225"
      ]
     },
     "execution_count": 153,
     "metadata": {},
     "output_type": "execute_result"
    }
   ],
   "source": [
    "rf_score"
   ]
  },
  {
   "cell_type": "markdown",
   "metadata": {},
   "source": [
    "    The best RF can do is ~ .79 which is slightly better than LR at a much higher wall-clock cost.\n",
    "    I think that ramdom forest is a good fit for this dataset since it handles outliers well and is also good at handling corelated features"
   ]
  },
  {
   "cell_type": "markdown",
   "metadata": {},
   "source": [
    "### If you could only choose one, which classifer from the above that you already ran is best? How do you define best? (hint: could be prediction accuracy, running time, interpretability, etc)"
   ]
  },
  {
   "cell_type": "markdown",
   "metadata": {},
   "source": [
    "    If I could use only one I would go with LR because, in this case it has the correct combination of being easy to interpret (as a linear regression for classification is very easy to explain), has a much lower wall-clock cost (37 times faster) and gets about the same results as the best performer in terms of accuracy score, RF."
   ]
  },
  {
   "cell_type": "code",
   "execution_count": 154,
   "metadata": {
    "collapsed": false
   },
   "outputs": [
    {
     "data": {
      "text/plain": [
       "{'Dummy': {'score': 0.65635179153094458,\n",
       "  'timeit': <TimeitResult : 10000 loops, best of 3: 76.8 µs per loop>},\n",
       " 'Knn': {'score': 0.75974025974025972,\n",
       "  'timeit': <TimeitResult : 1000 loops, best of 3: 538 µs per loop>},\n",
       " 'LR': {'score': 0.77922077922077926,\n",
       "  'timeit': <TimeitResult : 100 loops, best of 3: 3.43 ms per loop>},\n",
       " 'NB': {'score': 0.74025974025974028,\n",
       "  'timeit': <TimeitResult : 1000 loops, best of 3: 656 µs per loop>},\n",
       " 'RF': {'score': 0.79220779220779225,\n",
       "  'timeit': <TimeitResult : 10 loops, best of 3: 128 ms per loop>}}"
      ]
     },
     "execution_count": 154,
     "metadata": {},
     "output_type": "execute_result"
    }
   ],
   "source": [
    "scoreboard"
   ]
  },
  {
   "cell_type": "code",
   "execution_count": 155,
   "metadata": {
    "collapsed": false
   },
   "outputs": [
    {
     "data": {
      "image/png": "[encoded data removed]",
      "text/plain": [
       "<matplotlib.figure.Figure at 0x10a7c0b10>"
      ]
     },
     "metadata": {},
     "output_type": "display_data"
    }
   ],
   "source": [
    "draw_learning_curve([knn_model, nb_model, lr_model, rf_model], X_train, y_train, estimator_titles=['kNN', 'NB', 'LR', 'RF'], cv=10, scoring='accuracy')\n",
    "fig = plt.gcf()\n",
    "fig.set_size_inches(9, 9)"
   ]
  },
  {
   "cell_type": "code",
   "execution_count": 78,
   "metadata": {
    "collapsed": false
   },
   "outputs": [
    {
     "name": "stdout",
     "output_type": "stream",
     "text": [
      "CV accuracy [ 0.66666667  0.83333333  0.75        0.61538462  0.90909091  0.72727273\n",
      "  0.8         0.57142857  0.44444444  0.44444444], Average accuracy 0.676206571207\n"
     ]
    }
   ],
   "source": [
    "from sklearn.cross_validation import cross_val_score\n",
    "knn_scores = cross_val_score(knn_model, X_test, y_test, scoring='f1', cv=10)\n",
    "print('CV accuracy {}, Average accuracy {}'.format(knn_scores, knn_scores.mean()))"
   ]
  },
  {
   "cell_type": "code",
   "execution_count": 79,
   "metadata": {
    "collapsed": false
   },
   "outputs": [
    {
     "name": "stdout",
     "output_type": "stream",
     "text": [
      "CV accuracy [ 0.71428571  0.92307692  0.92307692  0.61538462  0.72727273  0.5         0.8\n",
      "  0.57142857  0.54545455  0.44444444], Average accuracy 0.676442446442\n"
     ]
    }
   ],
   "source": [
    "nb_scores = cross_val_score(nb_model, X_test, y_test, scoring='f1', cv=10)\n",
    "print('CV accuracy {}, Average accuracy {}'.format(nb_scores, nb_scores.mean()))"
   ]
  },
  {
   "cell_type": "code",
   "execution_count": 80,
   "metadata": {
    "collapsed": false
   },
   "outputs": [
    {
     "name": "stdout",
     "output_type": "stream",
     "text": [
      "CV accuracy [ 0.61538462  0.72727273  0.90909091  0.83333333  0.90909091  0.5         0.5\n",
      "  0.5         0.44444444  0.5       ], Average accuracy 0.643861693862\n"
     ]
    }
   ],
   "source": [
    "lr_scores = cross_val_score(lr_model, X_test, y_test, scoring='f1', cv=10)\n",
    "print('CV accuracy {}, Average accuracy {}'.format(lr_scores, lr_scores.mean()))"
   ]
  },
  {
   "cell_type": "code",
   "execution_count": 81,
   "metadata": {
    "collapsed": false
   },
   "outputs": [
    {
     "name": "stdout",
     "output_type": "stream",
     "text": [
      "CV accuracy [ 0.66666667  0.72727273  0.61538462  0.57142857  1.          0.57142857\n",
      "  0.6         0.57142857  0.44444444  0.5       ], Average accuracy 0.626805416805\n"
     ]
    }
   ],
   "source": [
    "rf_scores = cross_val_score(rf_model, X_test, y_test, scoring='f1', cv=10)\n",
    "print('CV accuracy {}, Average accuracy {}'.format(rf_scores, rf_scores.mean()))"
   ]
  },
  {
   "cell_type": "code",
   "execution_count": 86,
   "metadata": {
    "collapsed": false
   },
   "outputs": [
    {
     "name": "stdout",
     "output_type": "stream",
     "text": [
      "KNN\n",
      "             precision    recall  f1-score   support\n",
      "\n",
      "          0       0.89      0.77      0.82       112\n",
      "          1       0.54      0.74      0.63        42\n",
      "\n",
      "avg / total       0.79      0.76      0.77       154\n",
      "\n",
      "Logistic Regression\n",
      "             precision    recall  f1-score   support\n",
      "\n",
      "          0       0.89      0.79      0.83       109\n",
      "          1       0.60      0.76      0.67        45\n",
      "\n",
      "avg / total       0.80      0.78      0.79       154\n",
      "\n",
      "Naive Bayes\n",
      "             precision    recall  f1-score   support\n",
      "\n",
      "          0       0.82      0.78      0.80       103\n",
      "          1       0.60      0.67      0.63        51\n",
      "\n",
      "avg / total       0.75      0.74      0.74       154\n",
      "\n",
      "Ramdom Forest\n",
      "             precision    recall  f1-score   support\n",
      "\n",
      "          0       0.86      0.81      0.83       103\n",
      "          1       0.65      0.73      0.69        51\n",
      "\n",
      "avg / total       0.79      0.78      0.78       154\n",
      "\n"
     ]
    }
   ],
   "source": [
    "from sklearn.metrics import classification_report\n",
    "print(\"KNN\")\n",
    "print classification_report(knn_model.predict(X_test), y_test)\n",
    "print(\"Logistic Regression\")\n",
    "print classification_report(lr_model.predict(X_test), y_test)\n",
    "print(\"Naive Bayes\")\n",
    "print classification_report(nb_model.predict(X_test), y_test)\n",
    "print(\"Ramdom Forest\")\n",
    "print classification_report(rf_model.predict(X_test), y_test)"
   ]
  },
  {
   "cell_type": "code",
   "execution_count": null,
   "metadata": {
    "collapsed": true
   },
   "outputs": [],
   "source": []
  }
 ],
 "metadata": {
  "kernelspec": {
   "display_name": "Python 2",
   "language": "python",
   "name": "python2"
  },
  "language_info": {
   "codemirror_mode": {
    "name": "ipython",
    "version": 2
   },
   "file_extension": ".py",
   "mimetype": "text/x-python",
   "name": "python",
   "nbconvert_exporter": "python",
   "pygments_lexer": "ipython2",
   "version": "2.7.11"
  }
 },
 "nbformat": 4,
 "nbformat_minor": 0
}
