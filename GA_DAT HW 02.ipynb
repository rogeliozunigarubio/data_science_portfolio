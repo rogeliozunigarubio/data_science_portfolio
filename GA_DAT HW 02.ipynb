{
 "cells": [
  {
   "cell_type": "code",
   "execution_count": 3,
   "metadata": {
    "collapsed": true
   },
   "outputs": [],
   "source": [
    "import pandas as pd\n",
    "import numpy as np\n",
    "from sklearn.datasets import make_classification\n",
    "from sklearn.datasets import make_regression\n",
    "from sklearn.linear_model import Lasso\n",
    "from sklearn.neighbors import KNeighborsClassifier\n",
    "\n",
    "from sk_modelcurves.learning_curve import draw_learning_curve\n",
    "\n",
    "import matplotlib.pyplot as plt\n",
    "%matplotlib inline"
   ]
  },
  {
   "cell_type": "markdown",
   "metadata": {},
   "source": [
    "### Describe the content of the dataset and its goals\n",
    "The dataset is made up of all numerical data of a subset of medical data relating to patient diagnosis for diabetes according to WHO criteria.\n",
    "\n",
    "The goal of the dataset is to try and determine possible feature importance to forecast diabetes for this specific population, females at least 21 years old of Pima Indian heritage.\n",
    "\n",
    "There are some missing values for some of the data variables."
   ]
  },
  {
   "cell_type": "code",
   "execution_count": 17,
   "metadata": {
    "collapsed": false
   },
   "outputs": [],
   "source": [
    "col_names = ['times_pregnant','glucose_concentration','blood_pressure','skin_fold_thickness','serum_insulin','bmi','pedigree','age','class']\n",
    "na={\"glucose_concentration\" : \"0\", \"blood_pressure\" : \"0\", \"skin_fold_thickness\" : \"0\", \"serum_insulin\" : \"0\", \"bmi\" : \"0\"}\n",
    "pima_data = pd.read_csv('pima-indians-diabetes/pima-indians-diabetes.data', names=col_names, na_values=na)"
   ]
  },
  {
   "cell_type": "markdown",
   "metadata": {},
   "source": [
    "### Describe the features and formulate a hypothesis on which might be relevant in predicting diabetes"
   ]
  },
  {
   "cell_type": "markdown",
   "metadata": {},
   "source": [
    "After doing basic data exploration, looking at the correlation values and the counts it seems to me that glucose_concentration and bmi are the most helpful features in predicting diabetes, at least according to this dataset, on the surface you would think that skin_fold_thickness would be closely related to bmi but we have a lot of null values there and insulin would also be related to glucose_concentration but we have even more null values for that feature"
   ]
  },
  {
   "cell_type": "code",
   "execution_count": 5,
   "metadata": {
    "collapsed": false
   },
   "outputs": [
    {
     "name": "stdout",
     "output_type": "stream",
     "text": [
      "- times_pregnant: from 0 to 17 \n",
      "- glucose_concentration: from 44.0 to 199.0 \n",
      "- blood_pressure: from 24.0 to 122.0 \n",
      "- skin_fold_thickness: from 7.0 to 99.0 \n",
      "- serum_insulin: from 14.0 to 846.0 \n",
      "- bmi: from 18.2 to 67.1 \n",
      "- pedigree: from 0.078 to 2.42 \n",
      "- age: from 21 to 81 \n",
      "- class: either 0 or 1 \n"
     ]
    }
   ],
   "source": [
    "for nextColumn in col_names:\n",
    "    fromTo = 'either' if nextColumn == 'class' else 'from'\n",
    "    orTo = 'or' if nextColumn == 'class' else 'to'\n",
    "    print(\"- {0}: {1} {2} {3} {4} \".format(nextColumn,fromTo,pima_data[nextColumn].min(),orTo,pima_data[nextColumn].max()))"
   ]
  },
  {
   "cell_type": "code",
   "execution_count": 6,
   "metadata": {
    "collapsed": false
   },
   "outputs": [
    {
     "data": {
      "text/html": [
       "<div>\n",
       "<table border=\"1\" class=\"dataframe\">\n",
       "  <thead>\n",
       "    <tr style=\"text-align: right;\">\n",
       "      <th></th>\n",
       "      <th>times_pregnant</th>\n",
       "      <th>glucose_concentration</th>\n",
       "      <th>blood_pressure</th>\n",
       "      <th>skin_fold_thickness</th>\n",
       "      <th>serum_insulin</th>\n",
       "      <th>bmi</th>\n",
       "      <th>pedigree</th>\n",
       "      <th>age</th>\n",
       "      <th>class</th>\n",
       "    </tr>\n",
       "  </thead>\n",
       "  <tbody>\n",
       "    <tr>\n",
       "      <th>count</th>\n",
       "      <td>768.000000</td>\n",
       "      <td>763.000000</td>\n",
       "      <td>733.000000</td>\n",
       "      <td>541.000000</td>\n",
       "      <td>394.000000</td>\n",
       "      <td>757.000000</td>\n",
       "      <td>768.000000</td>\n",
       "      <td>768.000000</td>\n",
       "      <td>768.000000</td>\n",
       "    </tr>\n",
       "    <tr>\n",
       "      <th>mean</th>\n",
       "      <td>3.845052</td>\n",
       "      <td>121.686763</td>\n",
       "      <td>72.405184</td>\n",
       "      <td>29.153420</td>\n",
       "      <td>155.548223</td>\n",
       "      <td>32.457464</td>\n",
       "      <td>0.471876</td>\n",
       "      <td>33.240885</td>\n",
       "      <td>0.348958</td>\n",
       "    </tr>\n",
       "    <tr>\n",
       "      <th>std</th>\n",
       "      <td>3.369578</td>\n",
       "      <td>30.535641</td>\n",
       "      <td>12.382158</td>\n",
       "      <td>10.476982</td>\n",
       "      <td>118.775855</td>\n",
       "      <td>6.924988</td>\n",
       "      <td>0.331329</td>\n",
       "      <td>11.760232</td>\n",
       "      <td>0.476951</td>\n",
       "    </tr>\n",
       "    <tr>\n",
       "      <th>min</th>\n",
       "      <td>0.000000</td>\n",
       "      <td>44.000000</td>\n",
       "      <td>24.000000</td>\n",
       "      <td>7.000000</td>\n",
       "      <td>14.000000</td>\n",
       "      <td>18.200000</td>\n",
       "      <td>0.078000</td>\n",
       "      <td>21.000000</td>\n",
       "      <td>0.000000</td>\n",
       "    </tr>\n",
       "    <tr>\n",
       "      <th>25%</th>\n",
       "      <td>1.000000</td>\n",
       "      <td>99.000000</td>\n",
       "      <td>64.000000</td>\n",
       "      <td>22.000000</td>\n",
       "      <td>76.250000</td>\n",
       "      <td>27.500000</td>\n",
       "      <td>0.243750</td>\n",
       "      <td>24.000000</td>\n",
       "      <td>0.000000</td>\n",
       "    </tr>\n",
       "    <tr>\n",
       "      <th>50%</th>\n",
       "      <td>3.000000</td>\n",
       "      <td>117.000000</td>\n",
       "      <td>72.000000</td>\n",
       "      <td>29.000000</td>\n",
       "      <td>125.000000</td>\n",
       "      <td>32.300000</td>\n",
       "      <td>0.372500</td>\n",
       "      <td>29.000000</td>\n",
       "      <td>0.000000</td>\n",
       "    </tr>\n",
       "    <tr>\n",
       "      <th>75%</th>\n",
       "      <td>6.000000</td>\n",
       "      <td>141.000000</td>\n",
       "      <td>80.000000</td>\n",
       "      <td>36.000000</td>\n",
       "      <td>190.000000</td>\n",
       "      <td>36.600000</td>\n",
       "      <td>0.626250</td>\n",
       "      <td>41.000000</td>\n",
       "      <td>1.000000</td>\n",
       "    </tr>\n",
       "    <tr>\n",
       "      <th>max</th>\n",
       "      <td>17.000000</td>\n",
       "      <td>199.000000</td>\n",
       "      <td>122.000000</td>\n",
       "      <td>99.000000</td>\n",
       "      <td>846.000000</td>\n",
       "      <td>67.100000</td>\n",
       "      <td>2.420000</td>\n",
       "      <td>81.000000</td>\n",
       "      <td>1.000000</td>\n",
       "    </tr>\n",
       "  </tbody>\n",
       "</table>\n",
       "</div>"
      ],
      "text/plain": [
       "       times_pregnant  glucose_concentration  blood_pressure  \\\n",
       "count      768.000000             763.000000      733.000000   \n",
       "mean         3.845052             121.686763       72.405184   \n",
       "std          3.369578              30.535641       12.382158   \n",
       "min          0.000000              44.000000       24.000000   \n",
       "25%          1.000000              99.000000       64.000000   \n",
       "50%          3.000000             117.000000       72.000000   \n",
       "75%          6.000000             141.000000       80.000000   \n",
       "max         17.000000             199.000000      122.000000   \n",
       "\n",
       "       skin_fold_thickness  serum_insulin         bmi    pedigree         age  \\\n",
       "count           541.000000     394.000000  757.000000  768.000000  768.000000   \n",
       "mean             29.153420     155.548223   32.457464    0.471876   33.240885   \n",
       "std              10.476982     118.775855    6.924988    0.331329   11.760232   \n",
       "min               7.000000      14.000000   18.200000    0.078000   21.000000   \n",
       "25%              22.000000      76.250000   27.500000    0.243750   24.000000   \n",
       "50%              29.000000     125.000000   32.300000    0.372500   29.000000   \n",
       "75%              36.000000     190.000000   36.600000    0.626250   41.000000   \n",
       "max              99.000000     846.000000   67.100000    2.420000   81.000000   \n",
       "\n",
       "            class  \n",
       "count  768.000000  \n",
       "mean     0.348958  \n",
       "std      0.476951  \n",
       "min      0.000000  \n",
       "25%      0.000000  \n",
       "50%      0.000000  \n",
       "75%      1.000000  \n",
       "max      1.000000  "
      ]
     },
     "execution_count": 6,
     "metadata": {},
     "output_type": "execute_result"
    }
   ],
   "source": [
    "pima_data.describe()"
   ]
  },
  {
   "cell_type": "code",
   "execution_count": 7,
   "metadata": {
    "collapsed": false
   },
   "outputs": [
    {
     "name": "stdout",
     "output_type": "stream",
     "text": [
      "<class 'pandas.core.frame.DataFrame'>\n",
      "Int64Index: 768 entries, 0 to 767\n",
      "Data columns (total 9 columns):\n",
      "times_pregnant           768 non-null int64\n",
      "glucose_concentration    763 non-null float64\n",
      "blood_pressure           733 non-null float64\n",
      "skin_fold_thickness      541 non-null float64\n",
      "serum_insulin            394 non-null float64\n",
      "bmi                      757 non-null float64\n",
      "pedigree                 768 non-null float64\n",
      "age                      768 non-null int64\n",
      "class                    768 non-null int64\n",
      "dtypes: float64(6), int64(3)\n",
      "memory usage: 60.0 KB\n"
     ]
    }
   ],
   "source": [
    "pima_data.info()"
   ]
  },
  {
   "cell_type": "code",
   "execution_count": 8,
   "metadata": {
    "collapsed": false
   },
   "outputs": [
    {
     "data": {
      "text/html": [
       "<div>\n",
       "<table border=\"1\" class=\"dataframe\">\n",
       "  <thead>\n",
       "    <tr style=\"text-align: right;\">\n",
       "      <th></th>\n",
       "      <th>times_pregnant</th>\n",
       "      <th>glucose_concentration</th>\n",
       "      <th>blood_pressure</th>\n",
       "      <th>skin_fold_thickness</th>\n",
       "      <th>serum_insulin</th>\n",
       "      <th>bmi</th>\n",
       "      <th>pedigree</th>\n",
       "      <th>age</th>\n",
       "      <th>class</th>\n",
       "    </tr>\n",
       "  </thead>\n",
       "  <tbody>\n",
       "    <tr>\n",
       "      <th>class</th>\n",
       "      <td>0.221898</td>\n",
       "      <td>0.494650</td>\n",
       "      <td>0.170589</td>\n",
       "      <td>0.259491</td>\n",
       "      <td>0.303454</td>\n",
       "      <td>0.313680</td>\n",
       "      <td>0.173844</td>\n",
       "      <td>0.238356</td>\n",
       "      <td>1.000000</td>\n",
       "    </tr>\n",
       "    <tr>\n",
       "      <th>glucose_concentration</th>\n",
       "      <td>0.128135</td>\n",
       "      <td>1.000000</td>\n",
       "      <td>0.223192</td>\n",
       "      <td>0.228043</td>\n",
       "      <td>0.581186</td>\n",
       "      <td>0.232771</td>\n",
       "      <td>0.137246</td>\n",
       "      <td>0.267136</td>\n",
       "      <td>0.494650</td>\n",
       "    </tr>\n",
       "    <tr>\n",
       "      <th>bmi</th>\n",
       "      <td>0.021719</td>\n",
       "      <td>0.232771</td>\n",
       "      <td>0.289230</td>\n",
       "      <td>0.648214</td>\n",
       "      <td>0.228050</td>\n",
       "      <td>1.000000</td>\n",
       "      <td>0.155382</td>\n",
       "      <td>0.025841</td>\n",
       "      <td>0.313680</td>\n",
       "    </tr>\n",
       "    <tr>\n",
       "      <th>serum_insulin</th>\n",
       "      <td>0.082171</td>\n",
       "      <td>0.581186</td>\n",
       "      <td>0.098272</td>\n",
       "      <td>0.184888</td>\n",
       "      <td>1.000000</td>\n",
       "      <td>0.228050</td>\n",
       "      <td>0.130395</td>\n",
       "      <td>0.220261</td>\n",
       "      <td>0.303454</td>\n",
       "    </tr>\n",
       "    <tr>\n",
       "      <th>skin_fold_thickness</th>\n",
       "      <td>0.100239</td>\n",
       "      <td>0.228043</td>\n",
       "      <td>0.226839</td>\n",
       "      <td>1.000000</td>\n",
       "      <td>0.184888</td>\n",
       "      <td>0.648214</td>\n",
       "      <td>0.115016</td>\n",
       "      <td>0.166816</td>\n",
       "      <td>0.259491</td>\n",
       "    </tr>\n",
       "    <tr>\n",
       "      <th>age</th>\n",
       "      <td>0.544341</td>\n",
       "      <td>0.267136</td>\n",
       "      <td>0.330107</td>\n",
       "      <td>0.166816</td>\n",
       "      <td>0.220261</td>\n",
       "      <td>0.025841</td>\n",
       "      <td>0.033561</td>\n",
       "      <td>1.000000</td>\n",
       "      <td>0.238356</td>\n",
       "    </tr>\n",
       "    <tr>\n",
       "      <th>times_pregnant</th>\n",
       "      <td>1.000000</td>\n",
       "      <td>0.128135</td>\n",
       "      <td>0.214178</td>\n",
       "      <td>0.100239</td>\n",
       "      <td>0.082171</td>\n",
       "      <td>0.021719</td>\n",
       "      <td>-0.033523</td>\n",
       "      <td>0.544341</td>\n",
       "      <td>0.221898</td>\n",
       "    </tr>\n",
       "    <tr>\n",
       "      <th>pedigree</th>\n",
       "      <td>-0.033523</td>\n",
       "      <td>0.137246</td>\n",
       "      <td>-0.002805</td>\n",
       "      <td>0.115016</td>\n",
       "      <td>0.130395</td>\n",
       "      <td>0.155382</td>\n",
       "      <td>1.000000</td>\n",
       "      <td>0.033561</td>\n",
       "      <td>0.173844</td>\n",
       "    </tr>\n",
       "    <tr>\n",
       "      <th>blood_pressure</th>\n",
       "      <td>0.214178</td>\n",
       "      <td>0.223192</td>\n",
       "      <td>1.000000</td>\n",
       "      <td>0.226839</td>\n",
       "      <td>0.098272</td>\n",
       "      <td>0.289230</td>\n",
       "      <td>-0.002805</td>\n",
       "      <td>0.330107</td>\n",
       "      <td>0.170589</td>\n",
       "    </tr>\n",
       "  </tbody>\n",
       "</table>\n",
       "</div>"
      ],
      "text/plain": [
       "                       times_pregnant  glucose_concentration  blood_pressure  \\\n",
       "class                        0.221898               0.494650        0.170589   \n",
       "glucose_concentration        0.128135               1.000000        0.223192   \n",
       "bmi                          0.021719               0.232771        0.289230   \n",
       "serum_insulin                0.082171               0.581186        0.098272   \n",
       "skin_fold_thickness          0.100239               0.228043        0.226839   \n",
       "age                          0.544341               0.267136        0.330107   \n",
       "times_pregnant               1.000000               0.128135        0.214178   \n",
       "pedigree                    -0.033523               0.137246       -0.002805   \n",
       "blood_pressure               0.214178               0.223192        1.000000   \n",
       "\n",
       "                       skin_fold_thickness  serum_insulin       bmi  pedigree  \\\n",
       "class                             0.259491       0.303454  0.313680  0.173844   \n",
       "glucose_concentration             0.228043       0.581186  0.232771  0.137246   \n",
       "bmi                               0.648214       0.228050  1.000000  0.155382   \n",
       "serum_insulin                     0.184888       1.000000  0.228050  0.130395   \n",
       "skin_fold_thickness               1.000000       0.184888  0.648214  0.115016   \n",
       "age                               0.166816       0.220261  0.025841  0.033561   \n",
       "times_pregnant                    0.100239       0.082171  0.021719 -0.033523   \n",
       "pedigree                          0.115016       0.130395  0.155382  1.000000   \n",
       "blood_pressure                    0.226839       0.098272  0.289230 -0.002805   \n",
       "\n",
       "                            age     class  \n",
       "class                  0.238356  1.000000  \n",
       "glucose_concentration  0.267136  0.494650  \n",
       "bmi                    0.025841  0.313680  \n",
       "serum_insulin          0.220261  0.303454  \n",
       "skin_fold_thickness    0.166816  0.259491  \n",
       "age                    1.000000  0.238356  \n",
       "times_pregnant         0.544341  0.221898  \n",
       "pedigree               0.033561  0.173844  \n",
       "blood_pressure         0.330107  0.170589  "
      ]
     },
     "execution_count": 8,
     "metadata": {},
     "output_type": "execute_result"
    }
   ],
   "source": [
    "pima_data.corr().sort('class', ascending=False)"
   ]
  },
  {
   "cell_type": "markdown",
   "metadata": {},
   "source": [
    "### Describe the missing/NULL values. Decide if you should impute or drop them and justify your choice."
   ]
  },
  {
   "cell_type": "markdown",
   "metadata": {},
   "source": [
    "As we can see from info() below we have very FEW missing values in glucose_concentration, blood_pressure and bmi, but we have a significant number of values missing for skin_fold_thickness and serum_insulin\n",
    "\n",
    "    DROP serum_insulin\n",
    "Most medical literature seems to describe a direct relationship between insulin levels and glucose concentration in the blood in both type I and type II diabetes, therefore I am going to drop serum_insulin since it most likely will not have significant impact as a predictor\n",
    "\n",
    "https://vsearch.nlm.nih.gov/vivisimo/cgi-bin/query-meta?v%3Aproject=medlineplus&v%3Asources=medlineplus-bundle&query=Type+2+diabetes\n",
    "\n",
    "https://www.nlm.nih.gov/medlineplus/ency/article/000305.htm\n",
    "\n",
    "    IMPUTE skin fold thickness\n",
    "\n",
    "After taking a quick look at some literature on BMI/SFT measurements as predictors of diabetes in adults (there is a lot more study being conducted for children and adolescents!) I have a weak idea that the verdict is out on which is a more effective predictor, they are both used, sometimes together, so I am choosing to impute skin fold thickness and fill in the missing data with the mean"
   ]
  },
  {
   "cell_type": "code",
   "execution_count": 9,
   "metadata": {
    "collapsed": false
   },
   "outputs": [
    {
     "name": "stdout",
     "output_type": "stream",
     "text": [
      "<class 'pandas.core.frame.DataFrame'>\n",
      "Int64Index: 768 entries, 0 to 767\n",
      "Data columns (total 9 columns):\n",
      "times_pregnant           768 non-null int64\n",
      "glucose_concentration    763 non-null float64\n",
      "blood_pressure           733 non-null float64\n",
      "skin_fold_thickness      541 non-null float64\n",
      "serum_insulin            394 non-null float64\n",
      "bmi                      757 non-null float64\n",
      "pedigree                 768 non-null float64\n",
      "age                      768 non-null int64\n",
      "class                    768 non-null int64\n",
      "dtypes: float64(6), int64(3)\n",
      "memory usage: 60.0 KB\n"
     ]
    }
   ],
   "source": [
    "pima_data.info()"
   ]
  },
  {
   "cell_type": "code",
   "execution_count": 19,
   "metadata": {
    "collapsed": false
   },
   "outputs": [],
   "source": [
    "pima_data.drop('serum_insulin',1, inplace=True)\n",
    "pima_data\n",
    "pima_data.replace({'skin_fold_thickness':{np.nan:pima_data['skin_fold_thickness'].mean()}},inplace=True)"
   ]
  },
  {
   "cell_type": "code",
   "execution_count": 21,
   "metadata": {
    "collapsed": true
   },
   "outputs": [],
   "source": [
    "pima_data.replace({'blood_pressure':{np.nan:pima_data['blood_pressure'].mean()}},inplace=True)\n",
    "pima_data.replace({'bmi':{np.nan:pima_data['bmi'].mean()}},inplace=True)"
   ]
  },
  {
   "cell_type": "markdown",
   "metadata": {},
   "source": [
    "### Come up with a benchmark for the minimum performance that an algorithm should have on this dataset"
   ]
  },
  {
   "cell_type": "code",
   "execution_count": 33,
   "metadata": {
    "collapsed": false
   },
   "outputs": [
    {
     "data": {
      "text/plain": [
       "0    0.651042\n",
       "1    0.348958\n",
       "dtype: float64"
      ]
     },
     "execution_count": 33,
     "metadata": {},
     "output_type": "execute_result"
    }
   ],
   "source": [
    "X = pima_data['class']\n",
    "y = pima_data.drop('class', axis=1)\n",
    "from sklearn.cross_validation import train_test_split\n",
    "X_train, X_test, y_train, y_test = train_test_split(X, y,test_size=0.2, random_state=7)\n",
    "\n",
    "from sklearn.dummy import DummyClassifier\n",
    "dc = DummyClassifier()\n",
    "dc.fit(X_train, y_train)\n",
    "#dc.score(X_test, y_test) #couldnt get this to work, doing it by hand for now\n",
    "pima_data['class'].value_counts() / pima_data['class'].shape[0]"
   ]
  },
  {
   "cell_type": "markdown",
   "metadata": {},
   "source": [
    "    Minimum performance is .65 which is as good as just guessing that everyone has diabetes "
   ]
  },
  {
   "cell_type": "markdown",
   "metadata": {},
   "source": [
    "### What's the best performance you can get with kNN? Is kNN a good choice for this dataset?"
   ]
  },
  {
   "cell_type": "code",
   "execution_count": 36,
   "metadata": {
    "collapsed": false
   },
   "outputs": [
    {
     "ename": "ValueError",
     "evalue": "Found arrays with inconsistent numbers of samples: [  1 614]",
     "output_type": "error",
     "traceback": [
      "\u001b[0;31m---------------------------------------------------------------------------\u001b[0m",
      "\u001b[0;31mValueError\u001b[0m                                Traceback (most recent call last)",
      "\u001b[0;32m<ipython-input-36-0e4757612874>\u001b[0m in \u001b[0;36m<module>\u001b[0;34m()\u001b[0m\n\u001b[0;32m----> 1\u001b[0;31m \u001b[0mget_ipython\u001b[0m\u001b[0;34m(\u001b[0m\u001b[0;34m)\u001b[0m\u001b[0;34m.\u001b[0m\u001b[0mrun_cell_magic\u001b[0m\u001b[0;34m(\u001b[0m\u001b[0;34mu'timeit'\u001b[0m\u001b[0;34m,\u001b[0m \u001b[0;34mu''\u001b[0m\u001b[0;34m,\u001b[0m \u001b[0;34mu\"from sklearn.cross_validation import ShuffleSplit\\ncv = ShuffleSplit(X_train.shape[0], n_iter=10, test_size=0.2, random_state=0)\\nfrom sklearn.neighbors import KNeighborsClassifier\\nknn = KNeighborsClassifier(n_neighbors=1, weights='uniform', p=2)\\nknn.fit(X_train, y_train)\\nknn.predict(test)\\n\\nfrom sklearn.grid_search import GridSearchCV\\nparameters = {'n_neighbors': range(1,30), 'weights': ['uniform', 'distance'],'p': range(1,4)}\\nclf = GridSearchCV(knn, parameters, cv=cv)\\nclf.fit(X_train, y_train)\\nclf.best_params_\"\u001b[0m\u001b[0;34m)\u001b[0m\u001b[0;34m\u001b[0m\u001b[0m\n\u001b[0m",
      "\u001b[0;32m/Users/rogeliozuniga/anaconda/lib/python2.7/site-packages/IPython/core/interactiveshell.pyc\u001b[0m in \u001b[0;36mrun_cell_magic\u001b[0;34m(self, magic_name, line, cell)\u001b[0m\n\u001b[1;32m   2291\u001b[0m             \u001b[0mmagic_arg_s\u001b[0m \u001b[0;34m=\u001b[0m \u001b[0mself\u001b[0m\u001b[0;34m.\u001b[0m\u001b[0mvar_expand\u001b[0m\u001b[0;34m(\u001b[0m\u001b[0mline\u001b[0m\u001b[0;34m,\u001b[0m \u001b[0mstack_depth\u001b[0m\u001b[0;34m)\u001b[0m\u001b[0;34m\u001b[0m\u001b[0m\n\u001b[1;32m   2292\u001b[0m             \u001b[0;32mwith\u001b[0m \u001b[0mself\u001b[0m\u001b[0;34m.\u001b[0m\u001b[0mbuiltin_trap\u001b[0m\u001b[0;34m:\u001b[0m\u001b[0;34m\u001b[0m\u001b[0m\n\u001b[0;32m-> 2293\u001b[0;31m                 \u001b[0mresult\u001b[0m \u001b[0;34m=\u001b[0m \u001b[0mfn\u001b[0m\u001b[0;34m(\u001b[0m\u001b[0mmagic_arg_s\u001b[0m\u001b[0;34m,\u001b[0m \u001b[0mcell\u001b[0m\u001b[0;34m)\u001b[0m\u001b[0;34m\u001b[0m\u001b[0m\n\u001b[0m\u001b[1;32m   2294\u001b[0m             \u001b[0;32mreturn\u001b[0m \u001b[0mresult\u001b[0m\u001b[0;34m\u001b[0m\u001b[0m\n\u001b[1;32m   2295\u001b[0m \u001b[0;34m\u001b[0m\u001b[0m\n",
      "\u001b[0;32m<decorator-gen-59>\u001b[0m in \u001b[0;36mtimeit\u001b[0;34m(self, line, cell)\u001b[0m\n",
      "\u001b[0;32m/Users/rogeliozuniga/anaconda/lib/python2.7/site-packages/IPython/core/magic.pyc\u001b[0m in \u001b[0;36m<lambda>\u001b[0;34m(f, *a, **k)\u001b[0m\n\u001b[1;32m    191\u001b[0m     \u001b[0;31m# but it's overkill for just that one bit of state.\u001b[0m\u001b[0;34m\u001b[0m\u001b[0;34m\u001b[0m\u001b[0m\n\u001b[1;32m    192\u001b[0m     \u001b[0;32mdef\u001b[0m \u001b[0mmagic_deco\u001b[0m\u001b[0;34m(\u001b[0m\u001b[0marg\u001b[0m\u001b[0;34m)\u001b[0m\u001b[0;34m:\u001b[0m\u001b[0;34m\u001b[0m\u001b[0m\n\u001b[0;32m--> 193\u001b[0;31m         \u001b[0mcall\u001b[0m \u001b[0;34m=\u001b[0m \u001b[0;32mlambda\u001b[0m \u001b[0mf\u001b[0m\u001b[0;34m,\u001b[0m \u001b[0;34m*\u001b[0m\u001b[0ma\u001b[0m\u001b[0;34m,\u001b[0m \u001b[0;34m**\u001b[0m\u001b[0mk\u001b[0m\u001b[0;34m:\u001b[0m \u001b[0mf\u001b[0m\u001b[0;34m(\u001b[0m\u001b[0;34m*\u001b[0m\u001b[0ma\u001b[0m\u001b[0;34m,\u001b[0m \u001b[0;34m**\u001b[0m\u001b[0mk\u001b[0m\u001b[0;34m)\u001b[0m\u001b[0;34m\u001b[0m\u001b[0m\n\u001b[0m\u001b[1;32m    194\u001b[0m \u001b[0;34m\u001b[0m\u001b[0m\n\u001b[1;32m    195\u001b[0m         \u001b[0;32mif\u001b[0m \u001b[0mcallable\u001b[0m\u001b[0;34m(\u001b[0m\u001b[0marg\u001b[0m\u001b[0;34m)\u001b[0m\u001b[0;34m:\u001b[0m\u001b[0;34m\u001b[0m\u001b[0m\n",
      "\u001b[0;32m/Users/rogeliozuniga/anaconda/lib/python2.7/site-packages/IPython/core/magics/execution.pyc\u001b[0m in \u001b[0;36mtimeit\u001b[0;34m(self, line, cell)\u001b[0m\n\u001b[1;32m   1035\u001b[0m             \u001b[0mnumber\u001b[0m \u001b[0;34m=\u001b[0m \u001b[0;36m1\u001b[0m\u001b[0;34m\u001b[0m\u001b[0m\n\u001b[1;32m   1036\u001b[0m             \u001b[0;32mfor\u001b[0m \u001b[0m_\u001b[0m \u001b[0;32min\u001b[0m \u001b[0mrange\u001b[0m\u001b[0;34m(\u001b[0m\u001b[0;36m1\u001b[0m\u001b[0;34m,\u001b[0m \u001b[0;36m10\u001b[0m\u001b[0;34m)\u001b[0m\u001b[0;34m:\u001b[0m\u001b[0;34m\u001b[0m\u001b[0m\n\u001b[0;32m-> 1037\u001b[0;31m                 \u001b[0mtime_number\u001b[0m \u001b[0;34m=\u001b[0m \u001b[0mtimer\u001b[0m\u001b[0;34m.\u001b[0m\u001b[0mtimeit\u001b[0m\u001b[0;34m(\u001b[0m\u001b[0mnumber\u001b[0m\u001b[0;34m)\u001b[0m\u001b[0;34m\u001b[0m\u001b[0m\n\u001b[0m\u001b[1;32m   1038\u001b[0m                 \u001b[0mworst_tuning\u001b[0m \u001b[0;34m=\u001b[0m \u001b[0mmax\u001b[0m\u001b[0;34m(\u001b[0m\u001b[0mworst_tuning\u001b[0m\u001b[0;34m,\u001b[0m \u001b[0mtime_number\u001b[0m \u001b[0;34m/\u001b[0m \u001b[0mnumber\u001b[0m\u001b[0;34m)\u001b[0m\u001b[0;34m\u001b[0m\u001b[0m\n\u001b[1;32m   1039\u001b[0m                 \u001b[0;32mif\u001b[0m \u001b[0mtime_number\u001b[0m \u001b[0;34m>=\u001b[0m \u001b[0;36m0.2\u001b[0m\u001b[0;34m:\u001b[0m\u001b[0;34m\u001b[0m\u001b[0m\n",
      "\u001b[0;32m/Users/rogeliozuniga/anaconda/lib/python2.7/site-packages/IPython/core/magics/execution.pyc\u001b[0m in \u001b[0;36mtimeit\u001b[0;34m(self, number)\u001b[0m\n\u001b[1;32m    131\u001b[0m         \u001b[0mgc\u001b[0m\u001b[0;34m.\u001b[0m\u001b[0mdisable\u001b[0m\u001b[0;34m(\u001b[0m\u001b[0;34m)\u001b[0m\u001b[0;34m\u001b[0m\u001b[0m\n\u001b[1;32m    132\u001b[0m         \u001b[0;32mtry\u001b[0m\u001b[0;34m:\u001b[0m\u001b[0;34m\u001b[0m\u001b[0m\n\u001b[0;32m--> 133\u001b[0;31m             \u001b[0mtiming\u001b[0m \u001b[0;34m=\u001b[0m \u001b[0mself\u001b[0m\u001b[0;34m.\u001b[0m\u001b[0minner\u001b[0m\u001b[0;34m(\u001b[0m\u001b[0mit\u001b[0m\u001b[0;34m,\u001b[0m \u001b[0mself\u001b[0m\u001b[0;34m.\u001b[0m\u001b[0mtimer\u001b[0m\u001b[0;34m)\u001b[0m\u001b[0;34m\u001b[0m\u001b[0m\n\u001b[0m\u001b[1;32m    134\u001b[0m         \u001b[0;32mfinally\u001b[0m\u001b[0;34m:\u001b[0m\u001b[0;34m\u001b[0m\u001b[0m\n\u001b[1;32m    135\u001b[0m             \u001b[0;32mif\u001b[0m \u001b[0mgcold\u001b[0m\u001b[0;34m:\u001b[0m\u001b[0;34m\u001b[0m\u001b[0m\n",
      "\u001b[0;32m<magic-timeit>\u001b[0m in \u001b[0;36minner\u001b[0;34m(_it, _timer)\u001b[0m\n",
      "\u001b[0;32m/Users/rogeliozuniga/anaconda/lib/python2.7/site-packages/sklearn/neighbors/base.pyc\u001b[0m in \u001b[0;36mfit\u001b[0;34m(self, X, y)\u001b[0m\n\u001b[1;32m    743\u001b[0m         \"\"\"\n\u001b[1;32m    744\u001b[0m         \u001b[0;32mif\u001b[0m \u001b[0;32mnot\u001b[0m \u001b[0misinstance\u001b[0m\u001b[0;34m(\u001b[0m\u001b[0mX\u001b[0m\u001b[0;34m,\u001b[0m \u001b[0;34m(\u001b[0m\u001b[0mKDTree\u001b[0m\u001b[0;34m,\u001b[0m \u001b[0mBallTree\u001b[0m\u001b[0;34m)\u001b[0m\u001b[0;34m)\u001b[0m\u001b[0;34m:\u001b[0m\u001b[0;34m\u001b[0m\u001b[0m\n\u001b[0;32m--> 745\u001b[0;31m             \u001b[0mX\u001b[0m\u001b[0;34m,\u001b[0m \u001b[0my\u001b[0m \u001b[0;34m=\u001b[0m \u001b[0mcheck_X_y\u001b[0m\u001b[0;34m(\u001b[0m\u001b[0mX\u001b[0m\u001b[0;34m,\u001b[0m \u001b[0my\u001b[0m\u001b[0;34m,\u001b[0m \u001b[0;34m\"csr\"\u001b[0m\u001b[0;34m,\u001b[0m \u001b[0mmulti_output\u001b[0m\u001b[0;34m=\u001b[0m\u001b[0mTrue\u001b[0m\u001b[0;34m)\u001b[0m\u001b[0;34m\u001b[0m\u001b[0m\n\u001b[0m\u001b[1;32m    746\u001b[0m \u001b[0;34m\u001b[0m\u001b[0m\n\u001b[1;32m    747\u001b[0m         \u001b[0;32mif\u001b[0m \u001b[0my\u001b[0m\u001b[0;34m.\u001b[0m\u001b[0mndim\u001b[0m \u001b[0;34m==\u001b[0m \u001b[0;36m1\u001b[0m \u001b[0;32mor\u001b[0m \u001b[0my\u001b[0m\u001b[0;34m.\u001b[0m\u001b[0mndim\u001b[0m \u001b[0;34m==\u001b[0m \u001b[0;36m2\u001b[0m \u001b[0;32mand\u001b[0m \u001b[0my\u001b[0m\u001b[0;34m.\u001b[0m\u001b[0mshape\u001b[0m\u001b[0;34m[\u001b[0m\u001b[0;36m1\u001b[0m\u001b[0;34m]\u001b[0m \u001b[0;34m==\u001b[0m \u001b[0;36m1\u001b[0m\u001b[0;34m:\u001b[0m\u001b[0;34m\u001b[0m\u001b[0m\n",
      "\u001b[0;32m/Users/rogeliozuniga/anaconda/lib/python2.7/site-packages/sklearn/utils/validation.pyc\u001b[0m in \u001b[0;36mcheck_X_y\u001b[0;34m(X, y, accept_sparse, dtype, order, copy, force_all_finite, ensure_2d, allow_nd, multi_output, ensure_min_samples, ensure_min_features, y_numeric)\u001b[0m\n\u001b[1;32m    452\u001b[0m         \u001b[0my\u001b[0m \u001b[0;34m=\u001b[0m \u001b[0my\u001b[0m\u001b[0;34m.\u001b[0m\u001b[0mastype\u001b[0m\u001b[0;34m(\u001b[0m\u001b[0mnp\u001b[0m\u001b[0;34m.\u001b[0m\u001b[0mfloat64\u001b[0m\u001b[0;34m)\u001b[0m\u001b[0;34m\u001b[0m\u001b[0m\n\u001b[1;32m    453\u001b[0m \u001b[0;34m\u001b[0m\u001b[0m\n\u001b[0;32m--> 454\u001b[0;31m     \u001b[0mcheck_consistent_length\u001b[0m\u001b[0;34m(\u001b[0m\u001b[0mX\u001b[0m\u001b[0;34m,\u001b[0m \u001b[0my\u001b[0m\u001b[0;34m)\u001b[0m\u001b[0;34m\u001b[0m\u001b[0m\n\u001b[0m\u001b[1;32m    455\u001b[0m \u001b[0;34m\u001b[0m\u001b[0m\n\u001b[1;32m    456\u001b[0m     \u001b[0;32mreturn\u001b[0m \u001b[0mX\u001b[0m\u001b[0;34m,\u001b[0m \u001b[0my\u001b[0m\u001b[0;34m\u001b[0m\u001b[0m\n",
      "\u001b[0;32m/Users/rogeliozuniga/anaconda/lib/python2.7/site-packages/sklearn/utils/validation.pyc\u001b[0m in \u001b[0;36mcheck_consistent_length\u001b[0;34m(*arrays)\u001b[0m\n\u001b[1;32m    172\u001b[0m     \u001b[0;32mif\u001b[0m \u001b[0mlen\u001b[0m\u001b[0;34m(\u001b[0m\u001b[0muniques\u001b[0m\u001b[0;34m)\u001b[0m \u001b[0;34m>\u001b[0m \u001b[0;36m1\u001b[0m\u001b[0;34m:\u001b[0m\u001b[0;34m\u001b[0m\u001b[0m\n\u001b[1;32m    173\u001b[0m         raise ValueError(\"Found arrays with inconsistent numbers of samples: \"\n\u001b[0;32m--> 174\u001b[0;31m                          \"%s\" % str(uniques))\n\u001b[0m\u001b[1;32m    175\u001b[0m \u001b[0;34m\u001b[0m\u001b[0m\n\u001b[1;32m    176\u001b[0m \u001b[0;34m\u001b[0m\u001b[0m\n",
      "\u001b[0;31mValueError\u001b[0m: Found arrays with inconsistent numbers of samples: [  1 614]"
     ]
    }
   ],
   "source": [
    "%%timeit\n",
    "from sklearn.cross_validation import ShuffleSplit\n",
    "cv = ShuffleSplit(X_train.shape[0], n_iter=10, test_size=0.2, random_state=0)\n",
    "from sklearn.neighbors import KNeighborsClassifier\n",
    "knn = KNeighborsClassifier(n_neighbors=1, weights='uniform', p=2)\n",
    "knn.fit(X_train, y_train)\n",
    "knn.predict(test)\n",
    "\n",
    "from sklearn.grid_search import GridSearchCV\n",
    "parameters = {'n_neighbors': range(1,30), 'weights': ['uniform', 'distance'],'p': range(1,4)}\n",
    "clf = GridSearchCV(knn, parameters, cv=cv)\n",
    "clf.fit(X_train, y_train)\n",
    "clf.best_params_"
   ]
  },
  {
   "cell_type": "code",
   "execution_count": 34,
   "metadata": {
    "collapsed": true
   },
   "outputs": [],
   "source": [
    "### What's the best performance you can get with Naive Bayes? Is NB a good choice for this dataset?\n",
    "### What's the best performance you can get with Logistic Regression? Is LR a good choice for this dataset?\n",
    "### What's the best performance you can get with Random Forest? Is RF a good choice for this dataset?\n",
    "### If you could only choose one, which classifer from the above that you already ran is best? How do you define best? (hint: could be prediction accuracy, running time, interpretability, etc)"
   ]
  },
  {
   "cell_type": "code",
   "execution_count": null,
   "metadata": {
    "collapsed": true
   },
   "outputs": [],
   "source": []
  }
 ],
 "metadata": {
  "kernelspec": {
   "display_name": "Python 2",
   "language": "python",
   "name": "python2"
  },
  "language_info": {
   "codemirror_mode": {
    "name": "ipython",
    "version": 2
   },
   "file_extension": ".py",
   "mimetype": "text/x-python",
   "name": "python",
   "nbconvert_exporter": "python",
   "pygments_lexer": "ipython2",
   "version": "2.7.11"
  }
 },
 "nbformat": 4,
 "nbformat_minor": 0
}
